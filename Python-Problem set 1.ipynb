{
 "cells": [
  {
   "cell_type": "code",
   "execution_count": null,
   "id": "5cad8c05",
   "metadata": {},
   "outputs": [],
   "source": [
    "#Question 6"
   ]
  },
  {
   "cell_type": "code",
   "execution_count": 38,
   "id": "b694d080",
   "metadata": {
    "scrolled": false
   },
   "outputs": [
    {
     "name": "stdout",
     "output_type": "stream",
     "text": [
      "Enter a character:deld\n",
      "eldday\n"
     ]
    }
   ],
   "source": [
    "pig = input(\"Enter a character:\")\n",
    "\n",
    "if(pig[0]=='A' or pig[0]=='a' or pig[0]=='E' or pig[0]=='e' or pig[0]=='I'\n",
    " or pig[0]=='i' or pig[0]=='O' or pig[0]=='o' or pig[0]=='U' or pig[0]=='u'):\n",
    "        print((pig+\"way\").lower())\n",
    "else:\n",
    "    remove= pig[1:]+pig[0].lower()+\"ay\"\n",
    "\n",
    "    print(remove.lower())"
   ]
  },
  {
   "cell_type": "code",
   "execution_count": null,
   "id": "cc27f93d",
   "metadata": {},
   "outputs": [],
   "source": [
    "# Question 7"
   ]
  },
  {
   "cell_type": "code",
   "execution_count": 30,
   "id": "1ad0686c",
   "metadata": {},
   "outputs": [
    {
     "name": "stdout",
     "output_type": "stream",
     "text": [
      "There is one patient of blood type B\n",
      "There are 15 patients of blood type O\n",
      "There are no patients of blood type OO\n",
      "There are 15 patients of blood type A\n",
      "There are 13 patients of blood type AB\n"
     ]
    }
   ],
   "source": [
    "\n",
    "def bldcount(filename):\n",
    "    openFile = open(filename)\n",
    "    content = openFile.read()\n",
    "    bloodList = list(content.split(\" \"))\n",
    "    \n",
    "    b_count = bloodList.count('B')\n",
    "    a_count = bloodList.count('A')\n",
    "    oo_count = bloodList.count('OO')\n",
    "    o_count = bloodList.count('O')\n",
    "    ab_count = bloodList.count('AB')\n",
    "    \n",
    "    if (b_count == 0):\n",
    "        print(\"There are no patients of blood type B\")\n",
    "    if (b_count == 1):\n",
    "        print(\"There is one patient of blood type B\")\n",
    "    else:\n",
    "        print (\"There are\", bloodList.count('B'), \"patients of blood type B\")\n",
    "    \n",
    "    if (o_count == 0):\n",
    "        print(\"There are no patients of blood type O\")\n",
    "    if (o_count == 1):\n",
    "        print(\"There is one patient of blood type O\")\n",
    "    else:\n",
    "        print (\"There are\", bloodList.count('O'), \"patients of blood type O\")\n",
    "    \n",
    "    \n",
    "    \n",
    "    if (oo_count == 0):\n",
    "        print(\"There are no patients of blood type OO\")\n",
    "    if (oo_count == 1):\n",
    "        print(\"There is one patients of blood type OO\")\n",
    "    else:\n",
    "        print (\"There are\", bloodList.count('A'), \"patients of blood type A\")\n",
    "   \n",
    "    \n",
    "    if (ab_count == 0):\n",
    "        print(\"There are no patients of blood type AB\")\n",
    "    if (ab_count == 1):\n",
    "        print(\"There is one patients of blood type AB\")\n",
    "    else:\n",
    "        print (\"There are\", bloodList.count('AB'), \"patients of blood type AB\")    \n",
    "\n",
    "   \n",
    "bldcount(\"C:\\\\Users\\\\Babur\\\\OneDrive\\\\Desktop\\\\bloodtype.txt\")"
   ]
  },
  {
   "cell_type": "code",
   "execution_count": null,
   "id": "68ce8f2c",
   "metadata": {},
   "outputs": [],
   "source": []
  },
  {
   "cell_type": "code",
   "execution_count": null,
   "id": "368ca375",
   "metadata": {},
   "outputs": [],
   "source": [
    "#Question 8 \n",
    "currency=pd.read_table(\"C:\\\\Users\\\\Babur\\\\OneDrive\\\\Desktop\\\\currency.txt\")\n"
   ]
  },
  {
   "cell_type": "code",
   "execution_count": null,
   "id": "a5ead85d",
   "metadata": {},
   "outputs": [],
   "source": [
    "currency"
   ]
  },
  {
   "cell_type": "code",
   "execution_count": 36,
   "id": "011fe47e",
   "metadata": {},
   "outputs": [
    {
     "name": "stdout",
     "output_type": "stream",
     "text": [
      "122.9654\n",
      "1.2414\n"
     ]
    }
   ],
   "source": [
    "def curconv(a,b):\n",
    "    ans=0\n",
    "    l=['CHF','CNY','DKK','EUR','GBP','HKD','INR','JPY','MXN','MYR','NOK','NZD','PHP','SEK','SGD','THB']\n",
    "    l1=[1.023741,0.155018,0.165144,1.229654,1.555099,0.127021,0.017764,0.012414,0.075185,0.314541,0.167706,0.800359,0.023323,0.148269,0.788871,0.031379]\n",
    "    for i in range(len(l)):\n",
    "        if(l[i]==a):\n",
    "            ans=b*l1[i]\n",
    "    return ans\n",
    "print(curconv(\"EUR\",100))\n",
    "print(curconv(\"JPY\",100))"
   ]
  },
  {
   "cell_type": "code",
   "execution_count": null,
   "id": "409ff873",
   "metadata": {},
   "outputs": [],
   "source": [
    "#question 9"
   ]
  },
  {
   "cell_type": "code",
   "execution_count": null,
   "id": "70345bcd",
   "metadata": {},
   "outputs": [],
   "source": [
    "Trying to add incompatible variables, as in \n",
    "adding 6 + ‘a’: NumberFormatException \n",
    "    \n",
    "Referring to the 12th item of a list that has only 10 \n",
    "items :ArrayIndexOutOfBoundsException\n",
    "\n",
    "Using a value that is out of range for a function’s \n",
    "input, such as calling math.sqrt(-1.0): ArithmeticException\n",
    "    \n",
    "    \n",
    "Using an undeclared variable, such as print(x)\n",
    "when x has not been defined :ArithmeticException \n",
    "    \n",
    "Trying to open a file that does not exist, such as \n",
    "mistyping the file name or looking in the wrong \n",
    "directory : FileNotFoundException"
   ]
  },
  {
   "cell_type": "code",
   "execution_count": null,
   "id": "09e6524e",
   "metadata": {},
   "outputs": [],
   "source": [
    "#question 10"
   ]
  },
  {
   "cell_type": "code",
   "execution_count": 37,
   "id": "da8a7e02",
   "metadata": {},
   "outputs": [
    {
     "name": "stdout",
     "output_type": "stream",
     "text": [
      "[1, 1, 1, 3, 5, 1, 1, 2, 1, 0, 1, 0, 1, 2, 4, 0, 1, 2, 0, 3, 1, 0, 1, 1, 0, 0]\n",
      "[1, 0, 0, 0, 1, 0, 0, 0, 0, 0, 0, 1, 0, 0, 0, 2, 0, 0, 0, 0, 0, 0, 0, 0, 0, 0]\n"
     ]
    }
   ],
   "source": [
    "def frequency(stringName):\n",
    "    stringName = stringName.lower()\n",
    "    a2z = 'abcdefghijklmnopqrstuvwxyz'\n",
    "    count  = []\n",
    "    for a in a2z:\n",
    "        count.append(stringName.count(a))\n",
    "    print (count)\n",
    "    \n",
    "frequency(\"The quick red fox got bored and went home\")\n",
    "frequency(\"Apple\")"
   ]
  },
  {
   "cell_type": "code",
   "execution_count": null,
   "id": "48bf3cd3",
   "metadata": {},
   "outputs": [],
   "source": []
  }
 ],
 "metadata": {
  "kernelspec": {
   "display_name": "Python 3 (ipykernel)",
   "language": "python",
   "name": "python3"
  },
  "language_info": {
   "codemirror_mode": {
    "name": "ipython",
    "version": 3
   },
   "file_extension": ".py",
   "mimetype": "text/x-python",
   "name": "python",
   "nbconvert_exporter": "python",
   "pygments_lexer": "ipython3",
   "version": "3.9.7"
  }
 },
 "nbformat": 4,
 "nbformat_minor": 5
}
